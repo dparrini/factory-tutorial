{
 "cells": [
  {
   "cell_type": "markdown",
   "id": "3d7f9b40",
   "metadata": {},
   "source": [
    "# PSR Factory Tutorial"
   ]
  },
  {
   "cell_type": "markdown",
   "id": "962f4075",
   "metadata": {},
   "source": [
    "### Install the most recent version from PyPI.org"
   ]
  },
  {
   "cell_type": "code",
   "execution_count": null,
   "id": "0b13b6ed",
   "metadata": {},
   "outputs": [],
   "source": [
    "%pip install psr-factory"
   ]
  },
  {
   "cell_type": "markdown",
   "id": "7d7aa0e0",
   "metadata": {},
   "source": [
    "Requirements:\n",
    "- Python 3.9 or greater\n",
    "- Windows 10 or newer\n",
    "    - Windows 7 SP1 up to Windows 8 with Visual C++ Redistributables 2015-22\n",
    "- Linux, LIBC 2.28 or greater\n",
    "\n",
    "Optional Python packages (DataFrames handling):\n",
    "- numpy\n",
    "- pandas\n",
    "- polars\n"
   ]
  },
  {
   "cell_type": "markdown",
   "id": "9c856df5",
   "metadata": {},
   "source": [
    "### User manual and examples\n",
    "\n",
    "https://docs.psr-inc.com/factory/"
   ]
  },
  {
   "cell_type": "markdown",
   "id": "d491a7e7",
   "metadata": {},
   "source": [
    "### Downloadable versions (`pip`-less and 4.0 only currently)\n",
    "\n",
    "https://psrenergy-docs.github.io/factory/releases.html"
   ]
  },
  {
   "cell_type": "markdown",
   "id": "f8719bca",
   "metadata": {},
   "source": [
    "### Import the module to start using it"
   ]
  },
  {
   "cell_type": "code",
   "execution_count": null,
   "id": "a04f4704",
   "metadata": {},
   "outputs": [],
   "source": [
    "import psr.factory\n",
    "psr.factory.version()"
   ]
  },
  {
   "cell_type": "code",
   "execution_count": null,
   "id": "3dd8b7a0",
   "metadata": {},
   "outputs": [],
   "source": []
  },
  {
   "cell_type": "markdown",
   "id": "e9cf5c74",
   "metadata": {},
   "source": [
    "### Create a case from scratch\n",
    "\n",
    "The Factory script below will create, in memory, a case similar to Case21 found in SDDP 18 installation. "
   ]
  },
  {
   "cell_type": "code",
   "execution_count": null,
   "id": "d66f5b48",
   "metadata": {},
   "outputs": [],
   "source": [
    "import psr.factory.samples.sddp_sample_case21 as sample_case\n",
    "\n",
    "study = sample_case.create_sddp_sample_case21()"
   ]
  },
  {
   "cell_type": "markdown",
   "id": "e18b0ba4",
   "metadata": {},
   "source": [
    "The code below will list all ThermalPlants attached to the study"
   ]
  },
  {
   "cell_type": "code",
   "execution_count": null,
   "id": "9c08e1ad",
   "metadata": {},
   "outputs": [],
   "source": [
    "study.find(\"ThermalPlant\")"
   ]
  },
  {
   "cell_type": "markdown",
   "id": "6188b02c",
   "metadata": {},
   "source": [
    "The code below will list all Thermal plants with name starting with `T1`"
   ]
  },
  {
   "cell_type": "code",
   "execution_count": null,
   "id": "95b09fec",
   "metadata": {},
   "outputs": [],
   "source": [
    "study.find(\"ThermalPlant.T1\")"
   ]
  },
  {
   "cell_type": "markdown",
   "id": "32d5941f",
   "metadata": {},
   "source": [
    "You can use a _glob_ pattern including wildcards such as `*` (one or more character) or `?` (one character)"
   ]
  },
  {
   "cell_type": "code",
   "execution_count": null,
   "id": "bdd85c82",
   "metadata": {},
   "outputs": [],
   "source": [
    "study.find(\"ThermalPlant.T*\")"
   ]
  },
  {
   "cell_type": "code",
   "execution_count": null,
   "id": "44c8b62e",
   "metadata": {},
   "outputs": [],
   "source": [
    "# in this case, both will have de same result\n",
    "study.find(\"ThermalPlant.T?\")"
   ]
  },
  {
   "cell_type": "markdown",
   "id": "aa91b758",
   "metadata": {},
   "source": [
    "Let's check T1"
   ]
  },
  {
   "cell_type": "code",
   "execution_count": null,
   "id": "6fa39442",
   "metadata": {},
   "outputs": [],
   "source": [
    "t1 = study.find(\"ThermalPlant.T1\")[0]\n",
    "print(f\"Code {t1.code}\")\n",
    "print(f\"Name {t1.name}\")\n",
    "print(f\"Type {t1.type}\")"
   ]
  },
  {
   "cell_type": "markdown",
   "id": "9b78785a",
   "metadata": {},
   "source": [
    "Let's traverse more plants in the case"
   ]
  },
  {
   "cell_type": "code",
   "execution_count": null,
   "id": "ac30c62b",
   "metadata": {},
   "outputs": [],
   "source": [
    "for t in study.find(\"ThermalPlant.*\"):\n",
    "    print(f\"T {t.code}, {t.name}, {t.type}\")"
   ]
  },
  {
   "cell_type": "code",
   "execution_count": null,
   "id": "2407f37f",
   "metadata": {},
   "outputs": [],
   "source": [
    "for t in study.find(\"HydroPlant.*\"):\n",
    "    print(f\"H {t.code}, {t.name}, {t.type}\")"
   ]
  },
  {
   "cell_type": "markdown",
   "id": "70e546d1",
   "metadata": {},
   "source": [
    "Lets go back to T1 and check its Installed Capacity\n",
    "\n",
    "Properties that are not identifiers, are read using `get`, and set using... `set`"
   ]
  },
  {
   "cell_type": "code",
   "execution_count": null,
   "id": "9227ca6b",
   "metadata": {},
   "outputs": [],
   "source": [
    "t1.get(\"InstalledCapacity\")"
   ]
  },
  {
   "cell_type": "markdown",
   "id": "abcfaeb8",
   "metadata": {},
   "source": [
    "Improving the loop to show the initial installed capacity"
   ]
  },
  {
   "cell_type": "code",
   "execution_count": null,
   "id": "c636d3cf",
   "metadata": {},
   "outputs": [],
   "source": [
    "for t in study.find(\"ThermalPlant.*\") + study.find(\"HydroPlant.*\"):\n",
    "    if t.type == \"ThermalPlant\":\n",
    "        installed_capacity = t.get(\"InstalledCapacity\")\n",
    "        print(f\"T {t.code}, {t.name}, {t.type}, {installed_capacity} MW\")\n",
    "    else:\n",
    "        installed_capacity = t.get(\"InstalledCapacity\")\n",
    "        print(f\"H {t.code}, {t.name}, {t.type}, {installed_capacity} MW\")"
   ]
  },
  {
   "cell_type": "markdown",
   "id": "f11313be",
   "metadata": {},
   "source": [
    "Relationship between DataObject are set with special properties called `References`. A `ThermalPlant` is related to a `System` through the `RefSystem` relationship\n",
    "\n",
    "\n",
    "```mermaid\n",
    "flowchart LR\n",
    "    ThermalPlant -->|RefSystem| System\n",
    "```\n",
    "\n",
    "So we will read it by using `t1.get('RefSystem')`"
   ]
  },
  {
   "cell_type": "code",
   "execution_count": null,
   "id": "97d3de2f",
   "metadata": {},
   "outputs": [],
   "source": [
    "system = t1.get('RefSystem')\n",
    "system"
   ]
  },
  {
   "cell_type": "markdown",
   "id": "2719008f",
   "metadata": {},
   "source": [
    "Improving our example by showing the system the plant is part of"
   ]
  },
  {
   "cell_type": "code",
   "execution_count": null,
   "id": "566460d4",
   "metadata": {},
   "outputs": [],
   "source": [
    "for plant in study.find(\"ThermalPlant\") + study.find(\"HydroPlant\"):\n",
    "    system = plant.get(\"RefSystem\")  # <-- this is how you read the related system\n",
    "    print(plant.type, plant.code, plant.name, system.name)"
   ]
  },
  {
   "cell_type": "markdown",
   "id": "fe626659",
   "metadata": {},
   "source": [
    "Listing all objects in the study"
   ]
  },
  {
   "cell_type": "code",
   "execution_count": null,
   "id": "560c1fca",
   "metadata": {},
   "outputs": [],
   "source": [
    "for obj in study.get_all_objects():\n",
    "    print(obj.type, obj.code, obj.name)"
   ]
  },
  {
   "cell_type": "markdown",
   "id": "3183eefc",
   "metadata": {},
   "source": [
    "#### Exploring other properties\n",
    "\n",
    "Use `properties` method to see whats is possible to read or set. Or go to the online user guide."
   ]
  },
  {
   "cell_type": "code",
   "execution_count": null,
   "id": "4e26914a",
   "metadata": {},
   "outputs": [],
   "source": [
    "count = 0\n",
    "for prop_name, details in t1.properties().items():\n",
    "    count += 1\n",
    "    print(f\"Property {prop_name}\")\n",
    "    print(f\"  Type {details.type()}\")\n",
    "    print()\n",
    "    if count > 5:\n",
    "        break"
   ]
  },
  {
   "cell_type": "markdown",
   "id": "0fe65bb4",
   "metadata": {},
   "source": [
    "`help()` shows similar information"
   ]
  },
  {
   "cell_type": "code",
   "execution_count": null,
   "id": "a9d44df2",
   "metadata": {},
   "outputs": [],
   "source": [
    "print(t1.help())"
   ]
  },
  {
   "cell_type": "markdown",
   "id": "6a44a760",
   "metadata": {},
   "source": [
    "### Copying objects"
   ]
  },
  {
   "cell_type": "code",
   "execution_count": null,
   "id": "1031e613",
   "metadata": {},
   "outputs": [],
   "source": [
    "t4 = t1.clone()\n",
    "t4.code = 4\n",
    "t4.name = \"T4\"\n",
    "t4.set(\"InstalledCapacity\", 20)\n",
    "\n",
    "study.add(t4)"
   ]
  },
  {
   "cell_type": "code",
   "execution_count": null,
   "id": "f534d8c9",
   "metadata": {},
   "outputs": [],
   "source": [
    "study.find(\"ThermalPlant\")"
   ]
  },
  {
   "cell_type": "code",
   "execution_count": null,
   "id": "90f9a567",
   "metadata": {},
   "outputs": [],
   "source": [
    "import os\n",
    "os.makedirs(\"test\", exist_ok=True)\n",
    "study.save(\"test\")"
   ]
  },
  {
   "cell_type": "code",
   "execution_count": null,
   "id": "7a5e954b",
   "metadata": {},
   "outputs": [],
   "source": [
    "battery = psr.factory.create(\"Battery\", study.context)\n",
    "battery.code = 1\n",
    "battery.name = \"BESS 1\"\n",
    "battery.set(\"MaximumStorage\", 10)\n",
    "battery.set(\"MaximumCapacity\", 10)\n",
    "system = study.find(\"System\")[0]\n",
    "battery.set(\"RefSystem\", system)\n",
    "study.add(battery)"
   ]
  },
  {
   "cell_type": "code",
   "execution_count": null,
   "id": "6eba3ade",
   "metadata": {},
   "outputs": [],
   "source": [
    "study.find(\"Battery\")"
   ]
  },
  {
   "cell_type": "code",
   "execution_count": null,
   "id": "8ed5c8f0",
   "metadata": {},
   "outputs": [],
   "source": [
    "study.remove(t4)\n",
    "study.find(\"ThermalPlant\")"
   ]
  },
  {
   "cell_type": "code",
   "execution_count": null,
   "id": "c34991d2",
   "metadata": {},
   "outputs": [],
   "source": [
    "battery.set_at(\"MaximumCapacity\", \"06/2025\", 20)\n",
    "battery.get_df(\"MaximumCapacity\")"
   ]
  },
  {
   "cell_type": "code",
   "execution_count": null,
   "id": "c338a02c",
   "metadata": {},
   "outputs": [],
   "source": [
    "demand_segment = study.find(\"DemandSegment\")[0]\n"
   ]
  },
  {
   "cell_type": "code",
   "execution_count": null,
   "id": "0960e12d",
   "metadata": {},
   "outputs": [],
   "source": [
    "demand_segment.get_df(\"EnergyPerBlock\")"
   ]
  },
  {
   "cell_type": "code",
   "execution_count": null,
   "id": "d32415a1",
   "metadata": {},
   "outputs": [],
   "source": [
    "demand_segment.set_df(demand_segment.get_df(\"EnergyPerBlock\") * 2)"
   ]
  }
 ],
 "metadata": {
  "kernelspec": {
   "display_name": ".venv",
   "language": "python",
   "name": "python3"
  },
  "language_info": {
   "codemirror_mode": {
    "name": "ipython",
    "version": 3
   },
   "file_extension": ".py",
   "mimetype": "text/x-python",
   "name": "python",
   "nbconvert_exporter": "python",
   "pygments_lexer": "ipython3",
   "version": "3.13.1"
  }
 },
 "nbformat": 4,
 "nbformat_minor": 5
}
