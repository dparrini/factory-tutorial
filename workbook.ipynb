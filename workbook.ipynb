{
 "cells": [
  {
   "cell_type": "markdown",
   "id": "3d7f9b40",
   "metadata": {},
   "source": [
    "# PSR Factory Tutorial"
   ]
  },
  {
   "cell_type": "markdown",
   "id": "962f4075",
   "metadata": {},
   "source": [
    "### Install the most recent version from PyPI.org"
   ]
  },
  {
   "cell_type": "code",
   "execution_count": null,
   "id": "0b13b6ed",
   "metadata": {},
   "outputs": [],
   "source": [
    "%pip install psr-factory"
   ]
  },
  {
   "cell_type": "markdown",
   "id": "7d7aa0e0",
   "metadata": {},
   "source": [
    "Requirements:\n",
    "- Python 3.9 or greater\n",
    "- Windows 10 or newer\n",
    "    - Windows 7 SP1 up to Windows 8 with Visual C++ Redistributables 2015-22\n",
    "- Linux, LIBC 2.28 or greater\n",
    "\n",
    "Optional Python packages (DataFrames handling):\n",
    "- numpy\n",
    "- pandas\n",
    "- polars\n"
   ]
  },
  {
   "cell_type": "markdown",
   "id": "9c856df5",
   "metadata": {},
   "source": [
    "### User manual and examples\n",
    "\n",
    "https://docs.psr-inc.com/factory/"
   ]
  },
  {
   "cell_type": "markdown",
   "id": "d491a7e7",
   "metadata": {},
   "source": [
    "### Downloadable versions (`pip`-less and 4.0 only currently)\n",
    "\n",
    "https://psrenergy-docs.github.io/factory/releases.html"
   ]
  },
  {
   "cell_type": "markdown",
   "id": "f8719bca",
   "metadata": {},
   "source": [
    "### Import the module to start using it"
   ]
  },
  {
   "cell_type": "code",
   "execution_count": null,
   "id": "a04f4704",
   "metadata": {},
   "outputs": [],
   "source": [
    "import psr.factory\n",
    "psr.factory.version()"
   ]
  },
  {
   "cell_type": "code",
   "execution_count": null,
   "id": "3dd8b7a0",
   "metadata": {},
   "outputs": [],
   "source": []
  },
  {
   "cell_type": "markdown",
   "id": "e9cf5c74",
   "metadata": {},
   "source": [
    "### Create a case from scratch\n",
    "\n",
    "The Factory script below will create, in memory, a case similar to Case21 found in SDDP 18 installation. "
   ]
  },
  {
   "cell_type": "code",
   "execution_count": null,
   "id": "d66f5b48",
   "metadata": {},
   "outputs": [],
   "source": [
    "import psr.factory.samples.sddp_sample_case21 as sample_case\n",
    "\n",
    "study = sample_case.create_sddp_sample_case21()"
   ]
  },
  {
   "cell_type": "markdown",
   "id": "e18b0ba4",
   "metadata": {},
   "source": [
    "The code below will list all ThermalPlants attached to the study"
   ]
  },
  {
   "cell_type": "code",
   "execution_count": null,
   "id": "9c08e1ad",
   "metadata": {},
   "outputs": [],
   "source": [
    "study.find(\"ThermalPlant\")"
   ]
  },
  {
   "cell_type": "markdown",
   "id": "6188b02c",
   "metadata": {},
   "source": [
    "The code below will list all Thermal plants with name starting with `T1`"
   ]
  },
  {
   "cell_type": "code",
   "execution_count": null,
   "id": "95b09fec",
   "metadata": {},
   "outputs": [],
   "source": [
    "study.find(\"ThermalPlant.T1\")"
   ]
  },
  {
   "cell_type": "markdown",
   "id": "32d5941f",
   "metadata": {},
   "source": [
    "You can use a _glob_ pattern including wildcards such as `*` (one or more character) or `?` (one character)"
   ]
  },
  {
   "cell_type": "code",
   "execution_count": null,
   "id": "bdd85c82",
   "metadata": {},
   "outputs": [],
   "source": [
    "study.find(\"ThermalPlant.T*\")"
   ]
  },
  {
   "cell_type": "code",
   "execution_count": null,
   "id": "44c8b62e",
   "metadata": {},
   "outputs": [],
   "source": [
    "# in this case, both will have de same result\n",
    "study.find(\"ThermalPlant.T?\")"
   ]
  },
  {
   "cell_type": "markdown",
   "id": "aa91b758",
   "metadata": {},
   "source": [
    "Let's check T1"
   ]
  },
  {
   "cell_type": "code",
   "execution_count": null,
   "id": "6fa39442",
   "metadata": {},
   "outputs": [],
   "source": [
    "t1 = study.find(\"ThermalPlant.T1\")[0]\n",
    "print(f\"Code {t1.code}\")\n",
    "print(f\"Name {t1.name}\")\n",
    "print(f\"Type {t1.type}\")"
   ]
  },
  {
   "cell_type": "markdown",
   "id": "9b78785a",
   "metadata": {},
   "source": [
    "Let's traverse more plants in the case"
   ]
  },
  {
   "cell_type": "code",
   "execution_count": null,
   "id": "ac30c62b",
   "metadata": {},
   "outputs": [],
   "source": [
    "for t in study.find(\"ThermalPlant.*\"):\n",
    "    print(f\"T {t.code}, {t.name}, {t.type}\")"
   ]
  },
  {
   "cell_type": "code",
   "execution_count": null,
   "id": "2407f37f",
   "metadata": {},
   "outputs": [],
   "source": [
    "for t in study.find(\"HydroPlant.*\"):\n",
    "    print(f\"H {t.code}, {t.name}, {t.type}\")"
   ]
  },
  {
   "cell_type": "markdown",
   "id": "70e546d1",
   "metadata": {},
   "source": [
    "Lets go back to T1 and check its Installed Capacity\n",
    "\n",
    "Properties that are not identifiers, are read using `get`, and set using... `set`"
   ]
  },
  {
   "cell_type": "code",
   "execution_count": null,
   "id": "9227ca6b",
   "metadata": {},
   "outputs": [],
   "source": [
    "t1.get(\"InstalledCapacity\")"
   ]
  },
  {
   "cell_type": "markdown",
   "id": "abcfaeb8",
   "metadata": {},
   "source": [
    "Improving the loop to show the initial installed capacity"
   ]
  },
  {
   "cell_type": "code",
   "execution_count": null,
   "id": "c636d3cf",
   "metadata": {},
   "outputs": [],
   "source": [
    "for t in study.find(\"ThermalPlant.*\") + study.find(\"HydroPlant.*\"):\n",
    "    if t.type == \"ThermalPlant\":\n",
    "        installed_capacity = t.get(\"InstalledCapacity\")\n",
    "        print(f\"T {t.code}, {t.name}, {t.type}, {installed_capacity} MW\")\n",
    "    else:\n",
    "        installed_capacity = t.get(\"InstalledCapacity\")\n",
    "        print(f\"H {t.code}, {t.name}, {t.type}, {installed_capacity} MW\")"
   ]
  },
  {
   "cell_type": "markdown",
   "id": "f11313be",
   "metadata": {},
   "source": [
    "Relationship between DataObject are set with special properties called `References`. A `ThermalPlant` is related to a `System` through the `RefSystem` relationship property\n",
    "\n",
    "\n",
    "```mermaid\n",
    "flowchart LR\n",
    "    ThermalPlant -->|RefSystem| System\n",
    "```\n",
    "\n",
    "So we will read it by using `t1.get('RefSystem')`"
   ]
  },
  {
   "cell_type": "code",
   "execution_count": null,
   "id": "97d3de2f",
   "metadata": {},
   "outputs": [],
   "source": [
    "system = t1.get('RefSystem')\n",
    "system"
   ]
  },
  {
   "cell_type": "markdown",
   "id": "2719008f",
   "metadata": {},
   "source": [
    "Improving our example by showing the system the plant is part of"
   ]
  },
  {
   "cell_type": "code",
   "execution_count": null,
   "id": "566460d4",
   "metadata": {},
   "outputs": [],
   "source": [
    "for plant in study.find(\"ThermalPlant\") + study.find(\"HydroPlant\"):\n",
    "    system = plant.get(\"RefSystem\")  # <-- this is how you read the related system\n",
    "    print(plant.type, plant.code, plant.name, system.name)"
   ]
  },
  {
   "cell_type": "markdown",
   "id": "fe626659",
   "metadata": {},
   "source": [
    "Listing all objects in the study"
   ]
  },
  {
   "cell_type": "code",
   "execution_count": null,
   "id": "560c1fca",
   "metadata": {},
   "outputs": [],
   "source": [
    "for obj in study.get_all_objects():\n",
    "    print(obj.type, obj.code, obj.name)"
   ]
  },
  {
   "cell_type": "markdown",
   "id": "3183eefc",
   "metadata": {},
   "source": [
    "#### Exploring other properties\n",
    "\n",
    "Use `properties` method to see whats is possible to read or set. Or go to the online user manual."
   ]
  },
  {
   "cell_type": "code",
   "execution_count": null,
   "id": "4e26914a",
   "metadata": {},
   "outputs": [],
   "source": [
    "count = 0\n",
    "for prop_name, details in t1.properties().items():\n",
    "    count += 1\n",
    "    print(f\"Property {prop_name}\")\n",
    "    print(f\"  Type {details.type()}\")\n",
    "    print()\n",
    "    if count > 5:\n",
    "        break"
   ]
  },
  {
   "cell_type": "markdown",
   "id": "0fe65bb4",
   "metadata": {},
   "source": [
    "`help()` shows similar information"
   ]
  },
  {
   "cell_type": "code",
   "execution_count": null,
   "id": "a9d44df2",
   "metadata": {},
   "outputs": [],
   "source": [
    "print(t1.help())"
   ]
  },
  {
   "cell_type": "markdown",
   "id": "f7cd378e",
   "metadata": {},
   "source": [
    "### Creating objects\n",
    "\n",
    "Let's create a `Fuel` DataObject and associate `T4` ThermalPlant to it.\n",
    "\n",
    "Reminder of the relationships:\n",
    "\n",
    "```mermaid\n",
    "flowchart LR\n",
    "    ThermalPlant --> |RefSystem| System\n",
    "    ThermalPlant --> |RefFuels| Fuel\n",
    "    Fuel --> |RefSystem| System\n",
    "```"
   ]
  },
  {
   "cell_type": "code",
   "execution_count": null,
   "id": "d6c66422",
   "metadata": {},
   "outputs": [],
   "source": [
    "fuel4 = study.create(\"Fuel\")\n",
    "fuel4.code = 4\n",
    "fuel4.name = \"C4\"\n",
    "fuel4.set(\"Price\", 13.0)"
   ]
  },
  {
   "cell_type": "markdown",
   "id": "56914f5b",
   "metadata": {},
   "source": [
    "Let's associate the fuel to a System and add it to the study"
   ]
  },
  {
   "cell_type": "code",
   "execution_count": null,
   "id": "133d0e67",
   "metadata": {},
   "outputs": [],
   "source": [
    "system = study.find(\"System\")[0]\n",
    "fuel4.set(\"RefSystem\", system)\n",
    "study.add(fuel4)"
   ]
  },
  {
   "cell_type": "markdown",
   "id": "6a44a760",
   "metadata": {},
   "source": [
    "### Copying objects"
   ]
  },
  {
   "cell_type": "code",
   "execution_count": null,
   "id": "1031e613",
   "metadata": {},
   "outputs": [],
   "source": [
    "t4 = t1.clone()\n",
    "t4.code = 4\n",
    "t4.name = \"T4\"\n",
    "t4.set(\"InstalledCapacity\", 20)\n",
    "\n",
    "study.add(t4)"
   ]
  },
  {
   "cell_type": "markdown",
   "id": "a600d28a",
   "metadata": {},
   "source": [
    "Associating the fuel to the ThermalPlant"
   ]
  },
  {
   "cell_type": "code",
   "execution_count": null,
   "id": "f197147b",
   "metadata": {},
   "outputs": [],
   "source": [
    "t4.set(\"RefFuels\", [fuel4, ])"
   ]
  },
  {
   "cell_type": "markdown",
   "id": "fdc77492",
   "metadata": {},
   "source": [
    "### Removing a DataObject from the study"
   ]
  },
  {
   "cell_type": "code",
   "execution_count": null,
   "id": "8ed5c8f0",
   "metadata": {},
   "outputs": [],
   "source": [
    "study.remove(t4)\n",
    "study.find(\"ThermalPlant\")"
   ]
  },
  {
   "cell_type": "markdown",
   "id": "af8cf547",
   "metadata": {},
   "source": [
    "### Updating time-varying data\n",
    "\n",
    "Let's use DataFrames to update the case demand.\n",
    "\n",
    "The DataObject of interest is `DemandSegment`\n",
    "\n",
    "A `DemandSegment` doesn't have a `name` or a `code`, it's related to a `Demand` object, which has name and code. One or more `DemandSegment`s can be associated with a single `Demand` to model elastic/inelastic segments.\n",
    "```mermaid\n",
    "flowchart LR\n",
    "\tDemand --> |RefSystem| System\n",
    "\tDemand --> |RefSegments| DemandSegment\n",
    "```\n",
    "\n",
    "This case only has one demand segment, we could access it directly. But let's access it through the main demand"
   ]
  },
  {
   "cell_type": "code",
   "execution_count": null,
   "id": "c338a02c",
   "metadata": {},
   "outputs": [],
   "source": [
    "# Example: direct access to the unique DemandSegment in the study\n",
    "demand_segment = study.find(\"DemandSegment\")[0]\n",
    "demand_segment\n"
   ]
  },
  {
   "cell_type": "code",
   "execution_count": null,
   "id": "48b8befa",
   "metadata": {},
   "outputs": [],
   "source": [
    "# Example: Accessing the DemandSegment through Demand object\n",
    "demand = study.find(\"Demand\")[0]\n",
    "segments = demand.get(\"RefSegments\")\n",
    "demand_segment = segments[0]\n",
    "demand_segment"
   ]
  },
  {
   "cell_type": "markdown",
   "id": "d7e02407",
   "metadata": {},
   "source": [
    "`get_df` function returns the property as a DataFrame. It's useful for dynamic/time-varying properties"
   ]
  },
  {
   "cell_type": "code",
   "execution_count": null,
   "id": "0960e12d",
   "metadata": {},
   "outputs": [],
   "source": [
    "demand_segment.get_df(\"EnergyPerBlock\")"
   ]
  },
  {
   "cell_type": "markdown",
   "id": "0525a894",
   "metadata": {},
   "source": [
    "We can use the counterpart `set_df` to pass a dataframe to the object and replace properties values"
   ]
  },
  {
   "cell_type": "code",
   "execution_count": null,
   "id": "769f7908",
   "metadata": {},
   "outputs": [],
   "source": [
    "doubled_df = demand_segment.get_df(\"EnergyPerBlock\") * 2\n",
    "doubled_df"
   ]
  },
  {
   "cell_type": "code",
   "execution_count": null,
   "id": "d32415a1",
   "metadata": {},
   "outputs": [],
   "source": [
    "demand_segment.set_df(doubled_df)"
   ]
  },
  {
   "cell_type": "markdown",
   "id": "4a59f10f",
   "metadata": {},
   "source": [
    "Updating the dates to 2025 using some pandas kung fu"
   ]
  },
  {
   "cell_type": "code",
   "execution_count": null,
   "id": "5e958fff",
   "metadata": {},
   "outputs": [],
   "source": [
    "\n",
    "demand_df = demand_segment.get_df(\"EnergyPerBlock\")\n",
    "demand_df.index = demand_df.index.map(lambda x: x.replace(\"2016\", \"2025\"))\n",
    "demand_df\n"
   ]
  },
  {
   "cell_type": "markdown",
   "id": "51e5cec7",
   "metadata": {},
   "source": [
    "### Saving modifications\n",
    "\n",
    "All changes so far were made in memory. Let's write it to the disk"
   ]
  },
  {
   "cell_type": "code",
   "execution_count": null,
   "id": "c4d73631",
   "metadata": {},
   "outputs": [],
   "source": [
    "import os\n",
    "os.makedirs(\"my_case\", exist_ok=True)\n",
    "study.save(\"my_case\")"
   ]
  },
  {
   "cell_type": "markdown",
   "id": "df6ff878",
   "metadata": {},
   "source": [
    "## Exercises"
   ]
  },
  {
   "cell_type": "markdown",
   "id": "2d614f5e",
   "metadata": {},
   "source": [
    "### Exercise 1:\n",
    "\n",
    "Add a modification to T4 thermal plant `InstalledCapacity` at `01/2030`. Double the current capacity."
   ]
  },
  {
   "cell_type": "code",
   "execution_count": null,
   "id": "043a9f0a",
   "metadata": {},
   "outputs": [],
   "source": [
    "# Solution:\n"
   ]
  },
  {
   "cell_type": "markdown",
   "id": "272883de",
   "metadata": {},
   "source": [
    "### Exercise 2:\n",
    "\n",
    "Remove `Fuel` `C4` and check if it was successful (print the list of fuels)"
   ]
  },
  {
   "cell_type": "code",
   "execution_count": null,
   "id": "38401633",
   "metadata": {},
   "outputs": [],
   "source": [
    "# Solution:\n"
   ]
  },
  {
   "cell_type": "markdown",
   "id": "0454044e",
   "metadata": {},
   "source": [
    "### Exercise 3:\n",
    "\n",
    "Update `Study` `InitialYear` to 2025"
   ]
  },
  {
   "cell_type": "code",
   "execution_count": null,
   "id": "3b2efb4e",
   "metadata": {},
   "outputs": [],
   "source": [
    "# Solution:\n"
   ]
  },
  {
   "cell_type": "markdown",
   "id": "0c3bb0a0",
   "metadata": {},
   "source": [
    "### Exercise 4: \n",
    "\n",
    "Create a `Battery` and add it to the study.\n",
    "- Set its `MaximumStorage` property to 100 MWh\n",
    "- Set its `MaximumCapacity` to 10 MW\n",
    "- Give a nice name to it\n",
    "\n",
    "```mermaid\n",
    "flowchart LR\n",
    "    Battery --> |RefSystem| System\n",
    "```"
   ]
  },
  {
   "cell_type": "code",
   "execution_count": null,
   "id": "efad7efa",
   "metadata": {},
   "outputs": [],
   "source": [
    "# Solution:\n"
   ]
  }
 ],
 "metadata": {
  "kernelspec": {
   "display_name": ".venv",
   "language": "python",
   "name": "python3"
  },
  "language_info": {
   "codemirror_mode": {
    "name": "ipython",
    "version": 3
   },
   "file_extension": ".py",
   "mimetype": "text/x-python",
   "name": "python",
   "nbconvert_exporter": "python",
   "pygments_lexer": "ipython3",
   "version": "3.13.1"
  }
 },
 "nbformat": 4,
 "nbformat_minor": 5
}
