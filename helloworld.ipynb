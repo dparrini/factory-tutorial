{
 "cells": [
  {
   "cell_type": "markdown",
   "id": "3d7f9b40",
   "metadata": {},
   "source": [
    "# PSR Factory Tutorial"
   ]
  },
  {
   "cell_type": "markdown",
   "id": "962f4075",
   "metadata": {},
   "source": [
    "### Install the most recent version from PyPI.org"
   ]
  },
  {
   "cell_type": "code",
   "execution_count": null,
   "id": "0b13b6ed",
   "metadata": {},
   "outputs": [],
   "source": [
    "%pip install psr-factory"
   ]
  },
  {
   "cell_type": "markdown",
   "id": "7d7aa0e0",
   "metadata": {},
   "source": [
    "Requirements:\n",
    "- SDDP License\n",
    "- Python 3.9 or greater\n",
    "- Windows 10 or newer\n",
    "    - Windows 7 SP1 up to Windows 8 with Visual C++ Redistributables 2015-22\n",
    "- Linux, LIBC 2.28 or greater\n",
    "\n",
    "Optional Python packages (DataFrames handling):\n",
    "- numpy\n",
    "- pandas\n",
    "- polars\n",
    "\n",
    "Optional products:\n",
    "- To automate local runs and output processing: SDDP, OptGen, TSL\n",
    "- To automate cloud runs: PSR Cloud, optionally SDDP and OptGen"
   ]
  },
  {
   "cell_type": "markdown",
   "id": "f8719bca",
   "metadata": {},
   "source": [
    "### Import the module to start using it"
   ]
  },
  {
   "cell_type": "code",
   "execution_count": null,
   "id": "a04f4704",
   "metadata": {},
   "outputs": [],
   "source": [
    "import psr.factory"
   ]
  },
  {
   "cell_type": "markdown",
   "id": "e9cf5c74",
   "metadata": {},
   "source": [
    "### Create a case from scratch\n",
    "\n",
    "The Factory script below will create, in memory, a case similar to Case21 found in SDDP 17 installation. "
   ]
  },
  {
   "cell_type": "code",
   "execution_count": null,
   "id": "d66f5b48",
   "metadata": {},
   "outputs": [],
   "source": [
    "import sddp_12_stages_case21 as sddp_example\n",
    "\n",
    "study = sddp_example.create_sample_case()"
   ]
  },
  {
   "cell_type": "markdown",
   "id": "e18b0ba4",
   "metadata": {},
   "source": [
    "The code below will list all DataObjects attached to the created SDDP study"
   ]
  },
  {
   "cell_type": "code",
   "execution_count": null,
   "id": "9c08e1ad",
   "metadata": {},
   "outputs": [],
   "source": [
    "study.get_all_objects()"
   ]
  }
 ],
 "metadata": {
  "kernelspec": {
   "display_name": ".venv",
   "language": "python",
   "name": "python3"
  },
  "language_info": {
   "codemirror_mode": {
    "name": "ipython",
    "version": 3
   },
   "file_extension": ".py",
   "mimetype": "text/x-python",
   "name": "python",
   "nbconvert_exporter": "python",
   "pygments_lexer": "ipython3",
   "version": "3.13.1"
  }
 },
 "nbformat": 4,
 "nbformat_minor": 5
}
